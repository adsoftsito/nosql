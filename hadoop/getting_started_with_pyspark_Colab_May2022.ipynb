{
  "nbformat": 4,
  "nbformat_minor": 0,
  "metadata": {
    "kernelspec": {
      "name": "python37",
      "display_name": "Python 3.7 with Spark",
      "language": "python3"
    },
    "language_info": {
      "mimetype": "text/x-python",
      "nbconvert_exporter": "python",
      "name": "python",
      "pygments_lexer": "ipython3",
      "version": "3.7.9",
      "file_extension": ".py",
      "codemirror_mode": {
        "version": 3,
        "name": "ipython"
      }
    },
    "colab": {
      "name": "getting-started-with-pyspark-Colab_May2022.ipynb",
      "provenance": [],
      "collapsed_sections": [
        "kfnVnbvvQ5Oh",
        "P8ogD6eTQ5Oh",
        "srS40yA-Q5Oj",
        "HtRjmwrYQ5Ol",
        "PBDER5tKQ5Ol",
        "3ucciX0fQ5Oo",
        "fcfknDB6Q5Op",
        "EjIIXLnlQ5Oq",
        "eCsBM-v7Q5Or",
        "GzBXUlIKQ5Ow",
        "7iVFBO2YQ5Ox",
        "xoTw_QdGQ5O0",
        "fnpvifOPQ5O1"
      ]
    }
  },
  "cells": [
    {
      "cell_type": "markdown",
      "source": [
        "\n",
        "\n",
        "**TEMA 1**: INTRODUCCION AL BIG DATA Y ENTORNO SPARK\n"
      ],
      "metadata": {
        "id": "toldj0ab-NFx"
      }
    },
    {
      "cell_type": "code",
      "metadata": {
        "id": "cAWcbJaUQ__l"
      },
      "source": [
        "!apt-get install openjdk-8-jdk-headless -qq > /dev/null\n",
        "!wget -q https://downloads.apache.org/spark/spark-2.4.8/spark-2.4.8-bin-hadoop2.7.tgz\n",
        "!tar xf spark-2.4.8-bin-hadoop2.7.tgz\n",
        "!pip install -q findspark"
      ],
      "execution_count": 1,
      "outputs": []
    },
    {
      "cell_type": "code",
      "metadata": {
        "id": "zjGhD6oPRE3k"
      },
      "source": [
        "#All imports\n",
        "import os\n",
        "os.environ[\"JAVA_HOME\"] = \"/usr/lib/jvm/java-8-openjdk-amd64\"\n",
        "os.environ[\"SPARK_HOME\"] = \"/content/spark-2.4.8-bin-hadoop2.7\""
      ],
      "execution_count": 2,
      "outputs": []
    },
    {
      "cell_type": "code",
      "source": [
        "!java --version"
      ],
      "metadata": {
        "colab": {
          "base_uri": "https://localhost:8080/"
        },
        "id": "uo9n56T8uwWM",
        "outputId": "beef7e0a-3bfe-446f-8ad3-c3e0701c5842"
      },
      "execution_count": 3,
      "outputs": [
        {
          "output_type": "stream",
          "name": "stdout",
          "text": [
            "openjdk 11.0.15 2022-04-19\n",
            "OpenJDK Runtime Environment (build 11.0.15+10-Ubuntu-0ubuntu0.18.04.1)\n",
            "OpenJDK 64-Bit Server VM (build 11.0.15+10-Ubuntu-0ubuntu0.18.04.1, mixed mode, sharing)\n"
          ]
        }
      ]
    },
    {
      "cell_type": "code",
      "source": [
        "!echo $JAVA_HOME"
      ],
      "metadata": {
        "colab": {
          "base_uri": "https://localhost:8080/"
        },
        "id": "y1ugK9VAu6as",
        "outputId": "8f5220bb-2687-42dd-9ff8-5449d69ff1e1"
      },
      "execution_count": 6,
      "outputs": [
        {
          "output_type": "stream",
          "name": "stdout",
          "text": [
            "/usr/lib/jvm/java-8-openjdk-amd64\n"
          ]
        }
      ]
    },
    {
      "cell_type": "code",
      "source": [
        "!echo $SPARK_HOME"
      ],
      "metadata": {
        "colab": {
          "base_uri": "https://localhost:8080/"
        },
        "id": "iNDaBfU3u_FG",
        "outputId": "1eafbd20-9d89-444c-8007-151c2d814234"
      },
      "execution_count": 8,
      "outputs": [
        {
          "output_type": "stream",
          "name": "stdout",
          "text": [
            "/content/spark-2.4.8-bin-hadoop2.7\n"
          ]
        }
      ]
    },
    {
      "cell_type": "code",
      "metadata": {
        "id": "1wsRQ59fRUpF"
      },
      "source": [
        "import findspark\n",
        "findspark.init()\n",
        "from google.colab import files\n",
        "from pyspark import SparkContext, SparkConf,SQLContext,HiveContext\n",
        "from pyspark.sql import SparkSession\n",
        "from pyspark.sql.functions import isnan, when, count, col, lit\n",
        "import pandas as pd \n",
        "import numpy as np\n",
        "import matplotlib.pyplot as plt "
      ],
      "execution_count": 27,
      "outputs": []
    },
    {
      "cell_type": "code",
      "metadata": {
        "id": "oHxty3n1TsTJ"
      },
      "source": [
        "# create SparkSession\n",
        "spark = SparkSession \\\n",
        "    .builder \\\n",
        "    .getOrCreate()"
      ],
      "execution_count": 28,
      "outputs": []
    },
    {
      "cell_type": "code",
      "metadata": {
        "colab": {
          "base_uri": "https://localhost:8080/",
          "height": 35
        },
        "id": "-qrDzeLUk2xd",
        "outputId": "dd0456d1-d831-4017-caf9-db96bcb1f538"
      },
      "source": [
        "spark.version"
      ],
      "execution_count": 29,
      "outputs": [
        {
          "output_type": "execute_result",
          "data": {
            "text/plain": [
              "'2.4.8'"
            ],
            "application/vnd.google.colaboratory.intrinsic+json": {
              "type": "string"
            }
          },
          "metadata": {},
          "execution_count": 29
        }
      ]
    },
    {
      "cell_type": "code",
      "metadata": {
        "id": "v06mmfN4PmFk"
      },
      "source": [
        "sc = spark.sparkContext\n"
      ],
      "execution_count": 30,
      "outputs": []
    },
    {
      "cell_type": "code",
      "metadata": {
        "colab": {
          "base_uri": "https://localhost:8080/",
          "height": 35
        },
        "id": "eNwVoSrfoiPT",
        "outputId": "b89f8fb2-c121-44a2-9c9b-d4851a176686"
      },
      "source": [
        "sc.version"
      ],
      "execution_count": 31,
      "outputs": [
        {
          "output_type": "execute_result",
          "data": {
            "text/plain": [
              "'2.4.8'"
            ],
            "application/vnd.google.colaboratory.intrinsic+json": {
              "type": "string"
            }
          },
          "metadata": {},
          "execution_count": 31
        }
      ]
    },
    {
      "cell_type": "code",
      "metadata": {
        "id": "MExYLtEGTxbR"
      },
      "source": [
        "sqlContext = SQLContext(sc)"
      ],
      "execution_count": 32,
      "outputs": []
    },
    {
      "cell_type": "markdown",
      "metadata": {
        "id": "VCa3cMShQ5Ob"
      },
      "source": [
        "## Introduction"
      ]
    },
    {
      "cell_type": "markdown",
      "metadata": {
        "id": "QnjCLBsUQ5Ob"
      },
      "source": [
        "Apache Spark is a fast and powerful framework that provides an API to perform massive distributed processing over resilient sets of data. The main abstraction Spark provides is a resilient distributed dataset (RDD), which is the fundamental and backbone data type of this engine. Spark SQL is Apache Spark's module for working with structured data and MLlib is Apache Spark's scalable machine learning library. Apache Spark is written in Scala programming language. To support Python with Spark, Apache Spark community released a tool, PySpark. PySpark has similar computation speed and power as Scala. PySpark is a parallel and distributed engine for running big data applications. Using PySpark, you can work with RDDs in Python programming language. \n",
        "\n",
        "This tutorial discusses Big Data via PySpark, a Python package for spark programming. Spark's high level libraries such as SparkSQL, Mllib will be used to interact with two different datasets."
      ]
    },
    {
      "cell_type": "markdown",
      "metadata": {
        "id": "e4COC6zqQ5Oc"
      },
      "source": [
        "## What is SparkContext?"
      ]
    },
    {
      "cell_type": "markdown",
      "metadata": {
        "id": "qgwimdSgQ5Od"
      },
      "source": [
        "Spark comes with interactive python shell in which PySpark is already installed in it. PySpark automatically creates a SparkContext for you in the PySpark Shell. SparkContext is an entry point into the world of Spark. An entry point is a way of connecting to Spark cluster. We can use SparkContext using **sc** variable. In the following examples, we retrieve SparkContext version and Python version of SparkContext."
      ]
    },
    {
      "cell_type": "code",
      "metadata": {
        "colab": {
          "base_uri": "https://localhost:8080/",
          "height": 35
        },
        "id": "_G-_9FgzQ5Od",
        "outputId": "20be1e4c-1fab-4087-f4ba-4103d95d0c60"
      },
      "source": [
        "# to retrieve SparkContext version\n",
        "sc.version"
      ],
      "execution_count": 38,
      "outputs": [
        {
          "output_type": "execute_result",
          "data": {
            "text/plain": [
              "'2.4.8'"
            ],
            "application/vnd.google.colaboratory.intrinsic+json": {
              "type": "string"
            }
          },
          "metadata": {},
          "execution_count": 38
        }
      ]
    },
    {
      "cell_type": "code",
      "metadata": {
        "id": "PchF7FA_Q5Og",
        "colab": {
          "base_uri": "https://localhost:8080/",
          "height": 35
        },
        "outputId": "8bebb0cb-de3d-4a4b-de2c-bd4a246084f2"
      },
      "source": [
        "# to retriece Python version of SparkContext\n",
        "sc.pythonVer"
      ],
      "execution_count": 39,
      "outputs": [
        {
          "output_type": "execute_result",
          "data": {
            "text/plain": [
              "'3.7'"
            ],
            "application/vnd.google.colaboratory.intrinsic+json": {
              "type": "string"
            }
          },
          "metadata": {},
          "execution_count": 39
        }
      ]
    },
    {
      "cell_type": "markdown",
      "metadata": {
        "id": "kfnVnbvvQ5Oh"
      },
      "source": [
        "## Import Packages"
      ]
    },
    {
      "cell_type": "markdown",
      "source": [
        "**TEMA 2** MANEJO DE DATOS EN SPARK"
      ],
      "metadata": {
        "id": "uNoHtGne-FlW"
      }
    },
    {
      "cell_type": "code",
      "metadata": {
        "id": "wIzKrq-DQ5Oh"
      },
      "source": [
        "import pandas as pd\n",
        "import matplotlib.pyplot as plt\n",
        "plt.style.use(\"seaborn\")\n",
        "from math import sqrt\n",
        "from pyspark.mllib.clustering import KMeans"
      ],
      "execution_count": 40,
      "outputs": []
    },
    {
      "cell_type": "markdown",
      "metadata": {
        "id": "P8ogD6eTQ5Oh"
      },
      "source": [
        "## Using map and filter methods with Lambda function in Python"
      ]
    },
    {
      "cell_type": "markdown",
      "metadata": {
        "id": "O6iAxtwbQ5Oi"
      },
      "source": [
        "Lambda functions are anonymous functions in Python. Anonymous functions do not bind to any name in runtime and it returns the functions without any name. They are usually used with map and filter methods. Lambda functions create functions to be called later. In the following example, we use lambda function with map and flter methods."
      ]
    },
    {
      "cell_type": "code",
      "metadata": {
        "colab": {
          "base_uri": "https://localhost:8080/"
        },
        "id": "QSd45SHxQ5Oi",
        "outputId": "392301ed-f5d8-4ec4-a869-4d1fd33e5602"
      },
      "source": [
        "my_list = [1,2,3,4,5]\n",
        "squared_my_list = list(map(lambda x: x*x, my_list))\n",
        "squared_my_list"
      ],
      "execution_count": 41,
      "outputs": [
        {
          "output_type": "execute_result",
          "data": {
            "text/plain": [
              "[1, 4, 9, 16, 25]"
            ]
          },
          "metadata": {},
          "execution_count": 41
        }
      ]
    },
    {
      "cell_type": "code",
      "metadata": {
        "colab": {
          "base_uri": "https://localhost:8080/"
        },
        "id": "hh5MCNnXQ5Oj",
        "outputId": "8d131569-ed77-4dd6-ad47-215338347fa5"
      },
      "source": [
        "filtered_my_list = list(filter(lambda x: (x%2 != 0), my_list))\n",
        "filtered_my_list"
      ],
      "execution_count": 42,
      "outputs": [
        {
          "output_type": "execute_result",
          "data": {
            "text/plain": [
              "[1, 3, 5]"
            ]
          },
          "metadata": {},
          "execution_count": 42
        }
      ]
    },
    {
      "cell_type": "markdown",
      "metadata": {
        "id": "srS40yA-Q5Oj"
      },
      "source": [
        "## Creating RDD from Object"
      ]
    },
    {
      "cell_type": "markdown",
      "metadata": {
        "id": "iuMkEBaOQ5Ok"
      },
      "source": [
        "RDDs are data stacks distributed throughout cluster of computers. Each stack is calculated on different computers in the cluster. RDDs are the most basic data structure of Spark. We can create RDD by giving existing object like Python list to SparkContext's parallelize method. In the following example, we create a list with numbers, then we create a RDD from this list."
      ]
    },
    {
      "cell_type": "code",
      "metadata": {
        "id": "_-vQWSSfQ5Ok",
        "colab": {
          "base_uri": "https://localhost:8080/"
        },
        "outputId": "e9f1d546-d81d-4666-eb36-39e9682823bc"
      },
      "source": [
        "numbers = list(range(1,5))\n",
        "print(numbers)"
      ],
      "execution_count": 84,
      "outputs": [
        {
          "output_type": "stream",
          "name": "stdout",
          "text": [
            "[1, 2, 3, 4]\n"
          ]
        }
      ]
    },
    {
      "cell_type": "code",
      "metadata": {
        "id": "1WGwyZ63Q5Ok"
      },
      "source": [
        "# load the numbers into PySpark\n",
        "numbersRDD = sc.parallelize(numbers)"
      ],
      "execution_count": 74,
      "outputs": []
    },
    {
      "cell_type": "code",
      "metadata": {
        "colab": {
          "base_uri": "https://localhost:8080/"
        },
        "id": "roQLysrXQ5Ol",
        "outputId": "dce2cfd9-2e16-486d-e2f6-8d1693dac842"
      },
      "source": [
        "print(type(numbersRDD))\n",
        "print(type(numbers))"
      ],
      "execution_count": 75,
      "outputs": [
        {
          "output_type": "stream",
          "name": "stdout",
          "text": [
            "<class 'pyspark.rdd.RDD'>\n",
            "<class 'list'>\n"
          ]
        }
      ]
    },
    {
      "cell_type": "code",
      "metadata": {
        "colab": {
          "base_uri": "https://localhost:8080/"
        },
        "id": "HqUUEMg_zeCa",
        "outputId": "3517b790-738c-4a66-c02e-b5ada8816d05"
      },
      "source": [
        "numbersRDD.getNumPartitions()"
      ],
      "execution_count": 76,
      "outputs": [
        {
          "output_type": "execute_result",
          "data": {
            "text/plain": [
              "2"
            ]
          },
          "metadata": {},
          "execution_count": 76
        }
      ]
    },
    {
      "cell_type": "code",
      "metadata": {
        "colab": {
          "base_uri": "https://localhost:8080/"
        },
        "id": "XcxFdk_Pzvkj",
        "outputId": "f6de026a-beb0-4a41-ddfa-db0128355a0f"
      },
      "source": [
        "print(sc.defaultParallelism)"
      ],
      "execution_count": 77,
      "outputs": [
        {
          "output_type": "stream",
          "name": "stdout",
          "text": [
            "2\n"
          ]
        }
      ]
    },
    {
      "cell_type": "markdown",
      "metadata": {
        "id": "HtRjmwrYQ5Ol"
      },
      "source": [
        "## Transformations and Actions on RDD"
      ]
    },
    {
      "cell_type": "markdown",
      "metadata": {
        "id": "bvUR1a-eQ5Ol"
      },
      "source": [
        "Transformations and actions are two type of operations in Spark. Transformations create new RDDs. Actions performs computation on the RDDs. Map, filter, flatmap and union are basic RDD transformations. Collect, take, first and count are basic RDD actions. In the following example, we create rdd named numRDD from list and then using map transformation we create a new rdd named cubeRDD from numRDD. Finally, we use collect action to return a list that contains all of the elements in this RDD."
      ]
    },
    {
      "cell_type": "code",
      "metadata": {
        "colab": {
          "base_uri": "https://localhost:8080/"
        },
        "id": "2QCSBV8zQ5Ol",
        "outputId": "399f8c07-8a3b-40d3-b37e-5152d7f18d15"
      },
      "source": [
        "#Create RDD, map() transformations\n",
        "numRDD = sc.parallelize(numbers)\n",
        "cubeRDD = numRDD.map(lambda x: x**3)\n",
        "numbers_all = cubeRDD.collect()\n",
        "\n",
        "[print(num) for num in numbers_all];"
      ],
      "execution_count": 88,
      "outputs": [
        {
          "output_type": "stream",
          "name": "stdout",
          "text": [
            "1\n",
            "8\n",
            "27\n",
            "64\n"
          ]
        }
      ]
    },
    {
      "cell_type": "code",
      "metadata": {
        "colab": {
          "base_uri": "https://localhost:8080/"
        },
        "id": "xICNv9ERZvwl",
        "outputId": "8900194a-aad4-4503-9fcb-225a68be9127"
      },
      "source": [
        "#take shows the first n values\n",
        "numRDD.take(5)"
      ],
      "execution_count": 89,
      "outputs": [
        {
          "output_type": "execute_result",
          "data": {
            "text/plain": [
              "[1, 2, 3, 4]"
            ]
          },
          "metadata": {},
          "execution_count": 89
        }
      ]
    },
    {
      "cell_type": "code",
      "metadata": {
        "id": "Vie--CtScREV"
      },
      "source": [
        "#reduce :  reduces de values using a conmutative and associative binary operator\n",
        "from operator import add, mul, sub\n",
        "#numRDD.reduce(add)\n",
        "#numRDD.reduce(mul)"
      ],
      "execution_count": 93,
      "outputs": []
    },
    {
      "cell_type": "code",
      "metadata": {
        "colab": {
          "base_uri": "https://localhost:8080/"
        },
        "id": "Dzw41uMVcRcF",
        "outputId": "b92487f4-4cbb-49b2-f821-f093972b31d3"
      },
      "source": [
        "numRDD.stats()"
      ],
      "execution_count": 94,
      "outputs": [
        {
          "output_type": "execute_result",
          "data": {
            "text/plain": [
              "(count: 4, mean: 2.5, stdev: 1.118033988749895, max: 4.0, min: 1.0)"
            ]
          },
          "metadata": {},
          "execution_count": 94
        }
      ]
    },
    {
      "cell_type": "code",
      "metadata": {
        "colab": {
          "base_uri": "https://localhost:8080/"
        },
        "id": "wVcgFi07c1kl",
        "outputId": "3f48cafa-d66f-4fbf-ce80-b4b6dbe6c7fe"
      },
      "source": [
        "numRDD.count()"
      ],
      "execution_count": 95,
      "outputs": [
        {
          "output_type": "execute_result",
          "data": {
            "text/plain": [
              "4"
            ]
          },
          "metadata": {},
          "execution_count": 95
        }
      ]
    },
    {
      "cell_type": "markdown",
      "metadata": {
        "id": "PBDER5tKQ5Ol"
      },
      "source": [
        "## Transformations and Actions on pair RDD"
      ]
    },
    {
      "cell_type": "markdown",
      "metadata": {
        "id": "wUiD_U5pQ5Om"
      },
      "source": [
        "Pair RDD is a special type of RDD to work with datasets with key/value pairs. All regular transformations work on pair RDD. In the following example, we create pair RDD with 4 tuple with two numbers. In each tuple, the first number is key and the second number is value. Then, we apply reduceByKey transformation to pair RDD. ReduceByKey tranformation combine values with the same key. Therefore, this transformation adds the values of tuples with the same key."
      ]
    },
    {
      "cell_type": "code",
      "metadata": {
        "colab": {
          "base_uri": "https://localhost:8080/"
        },
        "id": "fTOqStOXQ5Om",
        "outputId": "d971e415-56ac-4367-a290-972030bbffbb"
      },
      "source": [
        "# create pairRdd with key and value pairs\n",
        "pairRdd = sc.parallelize([(1,2), (3,4), (3,6), (3,7), (4,5)])\n",
        "\n",
        "[print(num) for num in pairRdd.collect()];\n",
        "\n",
        "print(\"\\n\")\n",
        "\n",
        "pairRdd_Reduced = pairRdd.reduceByKey(lambda x, y: x-y)\n",
        "\n",
        "[print(num) for num in pairRdd_Reduced.collect()];"
      ],
      "execution_count": 96,
      "outputs": [
        {
          "output_type": "stream",
          "name": "stdout",
          "text": [
            "(1, 2)\n",
            "(3, 4)\n",
            "(3, 6)\n",
            "(3, 7)\n",
            "(4, 5)\n",
            "\n",
            "\n",
            "(4, 5)\n",
            "(1, 2)\n",
            "(3, 5)\n"
          ]
        }
      ]
    },
    {
      "cell_type": "code",
      "metadata": {
        "colab": {
          "base_uri": "https://localhost:8080/"
        },
        "id": "SvpsoDaqealX",
        "outputId": "8e80bc5c-2b5f-4781-f6e8-21e4f1c0222d"
      },
      "source": [
        "pairRdd.take(2)"
      ],
      "execution_count": 97,
      "outputs": [
        {
          "output_type": "execute_result",
          "data": {
            "text/plain": [
              "[(1, 2), (3, 4)]"
            ]
          },
          "metadata": {},
          "execution_count": 97
        }
      ]
    },
    {
      "cell_type": "markdown",
      "metadata": {
        "id": "Zp9CLk38Q5Om"
      },
      "source": [
        "We can sort keys of tuples using sortByKey transformation like in the following example."
      ]
    },
    {
      "cell_type": "code",
      "metadata": {
        "id": "63kwcnrDQ5Om",
        "outputId": "eab77391-964f-4dad-9192-72c879554022",
        "colab": {
          "base_uri": "https://localhost:8080/"
        }
      },
      "source": [
        "pairRdd_Reduced_Sort = pairRdd_Reduced.sortByKey(ascending=True)\n",
        "\n",
        "[print(num) for num in pairRdd_Reduced_Sort.collect()];"
      ],
      "execution_count": 98,
      "outputs": [
        {
          "output_type": "stream",
          "name": "stdout",
          "text": [
            "(1, 2)\n",
            "(3, 5)\n",
            "(4, 5)\n"
          ]
        }
      ]
    },
    {
      "cell_type": "code",
      "metadata": {
        "colab": {
          "base_uri": "https://localhost:8080/"
        },
        "id": "skqvWg7nlf4U",
        "outputId": "eb0e3aa5-a64f-408d-e632-35578e608f00"
      },
      "source": [
        "pairRdd.take(3)"
      ],
      "execution_count": 99,
      "outputs": [
        {
          "output_type": "execute_result",
          "data": {
            "text/plain": [
              "[(1, 2), (3, 4), (3, 6)]"
            ]
          },
          "metadata": {},
          "execution_count": 99
        }
      ]
    },
    {
      "cell_type": "markdown",
      "metadata": {
        "id": "NXKo2u2BQ5On"
      },
      "source": [
        "We can count number of tuples with the same key. In the following example, we see (3,2) because there are two tuple with key 3 in pairRdd."
      ]
    },
    {
      "cell_type": "code",
      "metadata": {
        "id": "D_-aaeukQ5On"
      },
      "source": [
        "total = pairRdd.countByKey()"
      ],
      "execution_count": 100,
      "outputs": []
    },
    {
      "cell_type": "code",
      "metadata": {
        "id": "NzmRqo54Q5On",
        "colab": {
          "base_uri": "https://localhost:8080/"
        },
        "outputId": "5dffbebf-617a-4e7d-ffb7-5bd9afe663af"
      },
      "source": [
        "total.items()"
      ],
      "execution_count": 101,
      "outputs": [
        {
          "output_type": "execute_result",
          "data": {
            "text/plain": [
              "dict_items([(1, 1), (3, 3), (4, 1)])"
            ]
          },
          "metadata": {},
          "execution_count": 101
        }
      ]
    },
    {
      "cell_type": "code",
      "metadata": {
        "id": "gLJXOFInQ5On",
        "colab": {
          "base_uri": "https://localhost:8080/"
        },
        "outputId": "6a9d6d9c-b868-44e5-f426-f71378abb113"
      },
      "source": [
        "[print(\"key\", k, \"has\", v, \"counts\") for k,v in total.items()];"
      ],
      "execution_count": 102,
      "outputs": [
        {
          "output_type": "stream",
          "name": "stdout",
          "text": [
            "key 1 has 1 counts\n",
            "key 3 has 3 counts\n",
            "key 4 has 1 counts\n"
          ]
        }
      ]
    },
    {
      "cell_type": "markdown",
      "metadata": {
        "id": "3ucciX0fQ5Oo"
      },
      "source": [
        "## What is SparkSession?"
      ]
    },
    {
      "cell_type": "markdown",
      "metadata": {
        "id": "wnNSOIfUQ5Oo"
      },
      "source": [
        "**SparkContext** is the main entry point for creating RDDs while SparkSession provides a single point of entry to interact with Spark Dataframes. **SparkSession** is used to create DataFrame, register DataFrames, execute SQL queries. We can access SparkSession in PySpark using spark variable.\n",
        "In the following examples, we retrieve SparkSession version and other informations about it."
      ]
    },
    {
      "cell_type": "code",
      "metadata": {
        "colab": {
          "base_uri": "https://localhost:8080/",
          "height": 219
        },
        "id": "IzwHkmNoQ5Oo",
        "outputId": "bafb66cc-6fc8-47cd-d460-4bc2c4722014"
      },
      "source": [
        "spark"
      ],
      "execution_count": 104,
      "outputs": [
        {
          "output_type": "execute_result",
          "data": {
            "text/plain": [
              "<pyspark.sql.session.SparkSession at 0x7fc6a63600d0>"
            ],
            "text/html": [
              "\n",
              "            <div>\n",
              "                <p><b>SparkSession - in-memory</b></p>\n",
              "                \n",
              "        <div>\n",
              "            <p><b>SparkContext</b></p>\n",
              "\n",
              "            <p><a href=\"http://f35e8e75b119:4040\">Spark UI</a></p>\n",
              "\n",
              "            <dl>\n",
              "              <dt>Version</dt>\n",
              "                <dd><code>v2.4.8</code></dd>\n",
              "              <dt>Master</dt>\n",
              "                <dd><code>local[*]</code></dd>\n",
              "              <dt>AppName</dt>\n",
              "                <dd><code>pyspark-shell</code></dd>\n",
              "            </dl>\n",
              "        </div>\n",
              "        \n",
              "            </div>\n",
              "        "
            ]
          },
          "metadata": {},
          "execution_count": 104
        }
      ]
    },
    {
      "cell_type": "markdown",
      "metadata": {
        "id": "fcfknDB6Q5Op"
      },
      "source": [
        "## Creating PySpark DataFrame from RDD"
      ]
    },
    {
      "cell_type": "markdown",
      "metadata": {
        "id": "BX5q2jXKQ5Op"
      },
      "source": [
        "Spark SQL which is a Spark module for structured data processing provides a programming abstraction called DataFrames and can also act as a distributed SQL query engine. In the following example, we create rdd from list then we create PySpark dataframe using SparkSession's createDataFrame method. When we look at the type of dataframe, we can see pyspark.sql.dataframe as an output. Furthermore, we can use show method to print out the dataframe."
      ]
    },
    {
      "cell_type": "code",
      "metadata": {
        "colab": {
          "base_uri": "https://localhost:8080/"
        },
        "id": "vewSLEE5Q5Op",
        "outputId": "46d8e2ef-1d2b-4853-9635-eacadf1cd055"
      },
      "source": [
        "# Create a PySpark Dataframe from rdd\n",
        "sample_list = [(\"Mona\", 23), (\"Lisa\", 29), ('Leonardo',37), ('Piero',41)]\n",
        "rdd = sc.parallelize(sample_list)\n",
        "df_names = spark.createDataFrame(rdd, schema=['Name', 'Age'])\n",
        "type(df_names)"
      ],
      "execution_count": 106,
      "outputs": [
        {
          "output_type": "execute_result",
          "data": {
            "text/plain": [
              "pyspark.sql.dataframe.DataFrame"
            ]
          },
          "metadata": {},
          "execution_count": 106
        }
      ]
    },
    {
      "cell_type": "code",
      "metadata": {
        "colab": {
          "base_uri": "https://localhost:8080/"
        },
        "id": "_q19h0TPQ5Op",
        "outputId": "fee2dc5b-f867-4368-9b65-33a447546be7"
      },
      "source": [
        "df_names.show()"
      ],
      "execution_count": 107,
      "outputs": [
        {
          "output_type": "stream",
          "name": "stdout",
          "text": [
            "+--------+---+\n",
            "|    Name|Age|\n",
            "+--------+---+\n",
            "|    Mona| 23|\n",
            "|    Lisa| 29|\n",
            "|Leonardo| 37|\n",
            "|   Piero| 41|\n",
            "+--------+---+\n",
            "\n"
          ]
        }
      ]
    },
    {
      "cell_type": "code",
      "metadata": {
        "colab": {
          "base_uri": "https://localhost:8080/"
        },
        "id": "tZQFWmNLitl7",
        "outputId": "11d511ac-6fb4-4179-98e2-0639d04baaf7"
      },
      "source": [
        "columns=[\"New Name\",\"New Age\"]\n",
        "SDF=rdd.toDF(columns)\n",
        "SDF.show()\n",
        "type(SDF)"
      ],
      "execution_count": 108,
      "outputs": [
        {
          "output_type": "stream",
          "name": "stdout",
          "text": [
            "+--------+-------+\n",
            "|New Name|New Age|\n",
            "+--------+-------+\n",
            "|    Mona|     23|\n",
            "|    Lisa|     29|\n",
            "|Leonardo|     37|\n",
            "|   Piero|     41|\n",
            "+--------+-------+\n",
            "\n"
          ]
        },
        {
          "output_type": "execute_result",
          "data": {
            "text/plain": [
              "pyspark.sql.dataframe.DataFrame"
            ]
          },
          "metadata": {},
          "execution_count": 108
        }
      ]
    },
    {
      "cell_type": "code",
      "metadata": {
        "colab": {
          "base_uri": "https://localhost:8080/"
        },
        "id": "ZpUqHg1TTkQP",
        "outputId": "b8bdccca-ff3f-493a-faaa-3b70d182e268"
      },
      "source": [
        "df_names.rdd.take(5)"
      ],
      "execution_count": 109,
      "outputs": [
        {
          "output_type": "execute_result",
          "data": {
            "text/plain": [
              "[Row(Name='Mona', Age=23),\n",
              " Row(Name='Lisa', Age=29),\n",
              " Row(Name='Leonardo', Age=37),\n",
              " Row(Name='Piero', Age=41)]"
            ]
          },
          "metadata": {},
          "execution_count": 109
        }
      ]
    },
    {
      "cell_type": "code",
      "metadata": {
        "id": "Dh4EySSHlALM",
        "colab": {
          "base_uri": "https://localhost:8080/"
        },
        "outputId": "5c3b857e-581c-4f36-dba9-d718b6ea50c0"
      },
      "source": [
        "df_names.rdd.getNumPartitions()"
      ],
      "execution_count": 110,
      "outputs": [
        {
          "output_type": "execute_result",
          "data": {
            "text/plain": [
              "2"
            ]
          },
          "metadata": {},
          "execution_count": 110
        }
      ]
    },
    {
      "cell_type": "markdown",
      "metadata": {
        "id": "EjIIXLnlQ5Oq"
      },
      "source": [
        "## Add Datasets"
      ]
    },
    {
      "cell_type": "code",
      "metadata": {
        "id": "E6_6ATXIF3Ni"
      },
      "source": [
        "path_people=\"/content/people.csv\""
      ],
      "execution_count": 116,
      "outputs": []
    },
    {
      "cell_type": "code",
      "metadata": {
        "id": "8FTugQCiYfR3",
        "colab": {
          "base_uri": "https://localhost:8080/"
        },
        "outputId": "820fe3dc-1504-41b2-95d4-13ad462dde4e"
      },
      "source": [
        "df_data_1 = spark.read.csv(path_people,header=True,inferSchema=True)\n",
        "df_data_1.show(10)"
      ],
      "execution_count": 117,
      "outputs": [
        {
          "output_type": "stream",
          "name": "stdout",
          "text": [
            "+---+---------+----------------+------+-------------+\n",
            "|_c0|person_id|            name|   sex|date of birth|\n",
            "+---+---------+----------------+------+-------------+\n",
            "|  0|      100|  Penelope Lewis|female|   1990-08-31|\n",
            "|  1|      101|   David Anthony|  male|   1971-10-14|\n",
            "|  2|      102|       Ida Shipp|female|   1962-05-24|\n",
            "|  3|      103|    Joanna Moore|female|   2017-03-10|\n",
            "|  4|      104|  Lisandra Ortiz|female|   2020-08-05|\n",
            "|  5|      105|   David Simmons|  male|   1999-12-30|\n",
            "|  6|      106|   Edward Hudson|  male|   1983-05-09|\n",
            "|  7|      107|    Albert Jones|  male|   1990-09-13|\n",
            "|  8|      108|Leonard Cavender|  male|   1958-08-08|\n",
            "|  9|      109|  Everett Vadala|  male|   2005-05-24|\n",
            "+---+---------+----------------+------+-------------+\n",
            "only showing top 10 rows\n",
            "\n"
          ]
        }
      ]
    },
    {
      "cell_type": "code",
      "metadata": {
        "id": "PwvkVDegQ5Oq",
        "colab": {
          "base_uri": "https://localhost:8080/"
        },
        "outputId": "b9fd641b-e7e9-4b15-a0f4-0b8f5c4c9eec"
      },
      "source": [
        "df_data_1.show(5)"
      ],
      "execution_count": 115,
      "outputs": [
        {
          "output_type": "stream",
          "name": "stdout",
          "text": [
            "+---+---------+--------------+------+-------------+\n",
            "|_c0|person_id|          name|   sex|date of birth|\n",
            "+---+---------+--------------+------+-------------+\n",
            "|  0|      100|Penelope Lewis|female|   1990-08-31|\n",
            "|  1|      101| David Anthony|  male|   1971-10-14|\n",
            "|  2|      102|     Ida Shipp|female|   1962-05-24|\n",
            "|  3|      103|  Joanna Moore|female|   2017-03-10|\n",
            "|  4|      104|Lisandra Ortiz|female|   2020-08-05|\n",
            "+---+---------+--------------+------+-------------+\n",
            "only showing top 5 rows\n",
            "\n"
          ]
        }
      ]
    },
    {
      "cell_type": "code",
      "metadata": {
        "id": "W8O3KJR6xOuw",
        "colab": {
          "base_uri": "https://localhost:8080/"
        },
        "outputId": "d616e77d-1490-4b93-8837-d605906e3950"
      },
      "source": [
        "df_data_1.rdd.take(5)"
      ],
      "execution_count": null,
      "outputs": [
        {
          "output_type": "execute_result",
          "data": {
            "text/plain": [
              "[Row(_c0=0, person_id=100, name='Penelope Lewis', sex='female', date of birth='1990-08-31'),\n",
              " Row(_c0=1, person_id=101, name='David Anthony', sex='male', date of birth='1971-10-14'),\n",
              " Row(_c0=2, person_id=102, name='Ida Shipp', sex='female', date of birth='1962-05-24'),\n",
              " Row(_c0=3, person_id=103, name='Joanna Moore', sex='female', date of birth='2017-03-10'),\n",
              " Row(_c0=4, person_id=104, name='Lisandra Ortiz', sex='female', date of birth='2020-08-05')]"
            ]
          },
          "metadata": {},
          "execution_count": 25
        }
      ]
    },
    {
      "cell_type": "code",
      "metadata": {
        "id": "CRgkZgEDxa_P",
        "colab": {
          "base_uri": "https://localhost:8080/"
        },
        "outputId": "631a43f6-f2d6-4a42-cf89-7cd2cc3f6aa7"
      },
      "source": [
        "df_data_1.printSchema()"
      ],
      "execution_count": 118,
      "outputs": [
        {
          "output_type": "stream",
          "name": "stdout",
          "text": [
            "root\n",
            " |-- _c0: integer (nullable = true)\n",
            " |-- person_id: integer (nullable = true)\n",
            " |-- name: string (nullable = true)\n",
            " |-- sex: string (nullable = true)\n",
            " |-- date of birth: string (nullable = true)\n",
            "\n"
          ]
        }
      ]
    },
    {
      "cell_type": "markdown",
      "metadata": {
        "id": "jHBTFdv-Y78W"
      },
      "source": [
        "You can also add 5000_points.txt dataset by applying same procedure but click insert to code then click insert credentials then write \"file\" and \"bucket\" values inside \"path_5000 = cos.url('file_name', 'bucket_name')\" expression and comment out path_5000."
      ]
    },
    {
      "cell_type": "code",
      "metadata": {
        "id": "-5-XG0jwY4pX"
      },
      "source": [
        "path_5000 = \"/content/5000_points.txt\"\n",
        "#df_people = spark.sparkContext.textFile(path_5000)"
      ],
      "execution_count": 120,
      "outputs": []
    },
    {
      "cell_type": "markdown",
      "metadata": {
        "id": "eCsBM-v7Q5Or"
      },
      "source": [
        "## Create PySpark DataFrame from external file"
      ]
    },
    {
      "cell_type": "markdown",
      "metadata": {
        "id": "1tRtQd9lQ5Os"
      },
      "source": [
        "We can create PySpark DataFrame by using SparkSession's read.csv method. To do this, we should give path of csv file as an argument to the method. Show action prints first 20 rows of DataFrame. Count action prints number of rows in DataFrame. Columns attribute prints the list of columns in DataFrame. PrintSchema action prints the types of columns in the Dataframe and it gives information about whether there is null values in columns or not."
      ]
    },
    {
      "cell_type": "code",
      "metadata": {
        "id": "vAGLc7iBQ5Os"
      },
      "source": [
        "df_people = spark.read.csv(path_people, header=True, inferSchema=True)"
      ],
      "execution_count": 126,
      "outputs": []
    },
    {
      "cell_type": "code",
      "metadata": {
        "id": "9Ep3ByLOQ5Os",
        "colab": {
          "base_uri": "https://localhost:8080/"
        },
        "outputId": "da762062-f254-475a-8ce1-eb430e019707"
      },
      "source": [
        "df_people.show(10)"
      ],
      "execution_count": 127,
      "outputs": [
        {
          "output_type": "stream",
          "name": "stdout",
          "text": [
            "+---+---------+----------------+------+-------------+\n",
            "|_c0|person_id|            name|   sex|date of birth|\n",
            "+---+---------+----------------+------+-------------+\n",
            "|  0|      100|  Penelope Lewis|female|   1990-08-31|\n",
            "|  1|      101|   David Anthony|  male|   1971-10-14|\n",
            "|  2|      102|       Ida Shipp|female|   1962-05-24|\n",
            "|  3|      103|    Joanna Moore|female|   2017-03-10|\n",
            "|  4|      104|  Lisandra Ortiz|female|   2020-08-05|\n",
            "|  5|      105|   David Simmons|  male|   1999-12-30|\n",
            "|  6|      106|   Edward Hudson|  male|   1983-05-09|\n",
            "|  7|      107|    Albert Jones|  male|   1990-09-13|\n",
            "|  8|      108|Leonard Cavender|  male|   1958-08-08|\n",
            "|  9|      109|  Everett Vadala|  male|   2005-05-24|\n",
            "+---+---------+----------------+------+-------------+\n",
            "only showing top 10 rows\n",
            "\n"
          ]
        }
      ]
    },
    {
      "cell_type": "code",
      "metadata": {
        "colab": {
          "base_uri": "https://localhost:8080/"
        },
        "id": "wh9EhFiZQ5Os",
        "outputId": "2275bb4e-b973-41fd-86f2-f8773e59a4c7"
      },
      "source": [
        "df_people.count()"
      ],
      "execution_count": 128,
      "outputs": [
        {
          "output_type": "execute_result",
          "data": {
            "text/plain": [
              "100000"
            ]
          },
          "metadata": {},
          "execution_count": 128
        }
      ]
    },
    {
      "cell_type": "code",
      "metadata": {
        "colab": {
          "base_uri": "https://localhost:8080/"
        },
        "id": "80zfiT-_GN1z",
        "outputId": "aa8904bd-5b93-4819-9a07-1da1b254f31f"
      },
      "source": [
        "print(len(df_people.columns))"
      ],
      "execution_count": 129,
      "outputs": [
        {
          "output_type": "stream",
          "name": "stdout",
          "text": [
            "5\n"
          ]
        }
      ]
    },
    {
      "cell_type": "code",
      "metadata": {
        "colab": {
          "base_uri": "https://localhost:8080/"
        },
        "id": "wnH4_nDCQ5Os",
        "outputId": "406f5dc9-3892-4b4b-e380-52f234b42aa1"
      },
      "source": [
        "df_people.columns"
      ],
      "execution_count": 130,
      "outputs": [
        {
          "output_type": "execute_result",
          "data": {
            "text/plain": [
              "['_c0', 'person_id', 'name', 'sex', 'date of birth']"
            ]
          },
          "metadata": {},
          "execution_count": 130
        }
      ]
    },
    {
      "cell_type": "code",
      "metadata": {
        "id": "0FOQ9uiyQ5Ot",
        "colab": {
          "base_uri": "https://localhost:8080/"
        },
        "outputId": "818eccf6-fc3c-4228-8dcc-dc245e647fc9"
      },
      "source": [
        "df_people.printSchema()"
      ],
      "execution_count": 131,
      "outputs": [
        {
          "output_type": "stream",
          "name": "stdout",
          "text": [
            "root\n",
            " |-- _c0: integer (nullable = true)\n",
            " |-- person_id: integer (nullable = true)\n",
            " |-- name: string (nullable = true)\n",
            " |-- sex: string (nullable = true)\n",
            " |-- date of birth: string (nullable = true)\n",
            "\n"
          ]
        }
      ]
    },
    {
      "cell_type": "code",
      "metadata": {
        "colab": {
          "base_uri": "https://localhost:8080/"
        },
        "id": "rB8ThIChI7yG",
        "outputId": "7698f656-b462-499c-8c26-33f2e4db8518"
      },
      "source": [
        "df_people.drop(\"name\",\"date of birth\").printSchema()"
      ],
      "execution_count": 132,
      "outputs": [
        {
          "output_type": "stream",
          "name": "stdout",
          "text": [
            "root\n",
            " |-- _c0: integer (nullable = true)\n",
            " |-- person_id: integer (nullable = true)\n",
            " |-- sex: string (nullable = true)\n",
            "\n"
          ]
        }
      ]
    },
    {
      "cell_type": "markdown",
      "metadata": {
        "id": "vhTTyOvxQ5Ot"
      },
      "source": [
        "We can use select method to select some columns of DataFrame. If we give argument to show method, it prints out rows as number of argument. In the following example it prints out 10 rows. dropDuplicates method removes the duplicate rows of a DataFrame. We can use count action to see how many rows are dropped."
      ]
    },
    {
      "cell_type": "code",
      "metadata": {
        "id": "5orJw3V_Q5Ot"
      },
      "source": [
        "df_people_sub = df_people.select('name', \"sex\", 'date of birth')"
      ],
      "execution_count": 133,
      "outputs": []
    },
    {
      "cell_type": "code",
      "metadata": {
        "id": "dqRkCN--Q5Ou",
        "colab": {
          "base_uri": "https://localhost:8080/"
        },
        "outputId": "3d9449f1-3554-4ffc-d63a-5c1a31b893fa"
      },
      "source": [
        "df_people_sub.show(10)"
      ],
      "execution_count": 134,
      "outputs": [
        {
          "output_type": "stream",
          "name": "stdout",
          "text": [
            "+----------------+------+-------------+\n",
            "|            name|   sex|date of birth|\n",
            "+----------------+------+-------------+\n",
            "|  Penelope Lewis|female|   1990-08-31|\n",
            "|   David Anthony|  male|   1971-10-14|\n",
            "|       Ida Shipp|female|   1962-05-24|\n",
            "|    Joanna Moore|female|   2017-03-10|\n",
            "|  Lisandra Ortiz|female|   2020-08-05|\n",
            "|   David Simmons|  male|   1999-12-30|\n",
            "|   Edward Hudson|  male|   1983-05-09|\n",
            "|    Albert Jones|  male|   1990-09-13|\n",
            "|Leonard Cavender|  male|   1958-08-08|\n",
            "|  Everett Vadala|  male|   2005-05-24|\n",
            "+----------------+------+-------------+\n",
            "only showing top 10 rows\n",
            "\n"
          ]
        }
      ]
    },
    {
      "cell_type": "code",
      "metadata": {
        "id": "HLuuboRlQ5Ou"
      },
      "source": [
        "df_people_sub_nodup = df_people_sub.dropDuplicates()"
      ],
      "execution_count": 135,
      "outputs": []
    },
    {
      "cell_type": "code",
      "metadata": {
        "id": "jElA3V76Q5Ou",
        "outputId": "957371fa-5f0f-40e1-c1cb-31ffb4713bd4",
        "colab": {
          "base_uri": "https://localhost:8080/"
        }
      },
      "source": [
        "print(\"Before removing duplicates:\", df_people_sub.count())\n",
        "print(\"After removing dublicates:\", df_people_sub_nodup.count())"
      ],
      "execution_count": 136,
      "outputs": [
        {
          "output_type": "stream",
          "name": "stdout",
          "text": [
            "Before removing duplicates: 100000\n",
            "After removing dublicates: 99998\n"
          ]
        }
      ]
    },
    {
      "cell_type": "markdown",
      "metadata": {
        "id": "I5Om62oaQ5Ov"
      },
      "source": [
        "We can filter out the rows based on a condition by using filter transformation as in the following example."
      ]
    },
    {
      "cell_type": "code",
      "metadata": {
        "id": "dAnB37bLQ5Ov"
      },
      "source": [
        "df_people_female = df_people.filter(df_people.sex == \"female\")\n",
        "df_people_male = df_people.filter(df_people.sex == \"male\")"
      ],
      "execution_count": 137,
      "outputs": []
    },
    {
      "cell_type": "code",
      "metadata": {
        "id": "GGuRzMmCQ5Ov",
        "colab": {
          "base_uri": "https://localhost:8080/"
        },
        "outputId": "76406e44-0ef2-4a93-cd9c-46eca456cab6"
      },
      "source": [
        "df_people_female.count()"
      ],
      "execution_count": 138,
      "outputs": [
        {
          "output_type": "execute_result",
          "data": {
            "text/plain": [
              "49014"
            ]
          },
          "metadata": {},
          "execution_count": 138
        }
      ]
    },
    {
      "cell_type": "code",
      "metadata": {
        "id": "t-X14P8AQ5Ov",
        "colab": {
          "base_uri": "https://localhost:8080/"
        },
        "outputId": "46584d21-b4cd-42d5-cc34-8449f60733ce"
      },
      "source": [
        "df_people_female.show(5)"
      ],
      "execution_count": 139,
      "outputs": [
        {
          "output_type": "stream",
          "name": "stdout",
          "text": [
            "+---+---------+-----------------+------+-------------+\n",
            "|_c0|person_id|             name|   sex|date of birth|\n",
            "+---+---------+-----------------+------+-------------+\n",
            "|  0|      100|   Penelope Lewis|female|   1990-08-31|\n",
            "|  2|      102|        Ida Shipp|female|   1962-05-24|\n",
            "|  3|      103|     Joanna Moore|female|   2017-03-10|\n",
            "|  4|      104|   Lisandra Ortiz|female|   2020-08-05|\n",
            "| 11|      111|Annabelle Rosseau|female|   1989-07-13|\n",
            "+---+---------+-----------------+------+-------------+\n",
            "only showing top 5 rows\n",
            "\n"
          ]
        }
      ]
    },
    {
      "cell_type": "markdown",
      "metadata": {
        "id": "XTOVc5XwQ5Ov"
      },
      "source": [
        "We can group columns based on their values by using groupby transformation as in the following example."
      ]
    },
    {
      "cell_type": "code",
      "metadata": {
        "id": "9FJBBFdTQ5Ov",
        "colab": {
          "base_uri": "https://localhost:8080/"
        },
        "outputId": "3b5400d6-95f9-41aa-c08a-ac0b4e2ae919"
      },
      "source": [
        "df_people_sex = df_people.groupby(\"sex\")\n",
        "df_people_sex.count().show()"
      ],
      "execution_count": 140,
      "outputs": [
        {
          "output_type": "stream",
          "name": "stdout",
          "text": [
            "+------+-----+\n",
            "|   sex|count|\n",
            "+------+-----+\n",
            "|  null| 1920|\n",
            "|female|49014|\n",
            "|  male|49066|\n",
            "+------+-----+\n",
            "\n"
          ]
        }
      ]
    },
    {
      "cell_type": "markdown",
      "metadata": {
        "id": "AO5yjPYbQ5Ov"
      },
      "source": [
        "We can sorts the DataFrame based on one or more columns by using orderBy transformation."
      ]
    },
    {
      "cell_type": "code",
      "metadata": {
        "id": "4cFqDNiKQ5Ov",
        "colab": {
          "base_uri": "https://localhost:8080/"
        },
        "outputId": "bbb5e053-8e2b-4aac-9957-e4e41530207b"
      },
      "source": [
        "df_people.orderBy(\"date of birth\").show(3)"
      ],
      "execution_count": 141,
      "outputs": [
        {
          "output_type": "stream",
          "name": "stdout",
          "text": [
            "+-----+---------+---------------+------+-------------+\n",
            "|  _c0|person_id|           name|   sex|date of birth|\n",
            "+-----+---------+---------------+------+-------------+\n",
            "|57359|    57459|   Sharon Perez|female|   1899-08-28|\n",
            "|62233|    62333|Martina Morison|female|   1901-04-21|\n",
            "|96318|    96418|   Lisa Garrett|female|   1901-05-09|\n",
            "+-----+---------+---------------+------+-------------+\n",
            "only showing top 3 rows\n",
            "\n"
          ]
        }
      ]
    },
    {
      "cell_type": "markdown",
      "metadata": {
        "id": "fpnFji5rQ5Ow"
      },
      "source": [
        "We can rename a column in DataFrame by using withColumnRenamed transformation."
      ]
    },
    {
      "cell_type": "code",
      "metadata": {
        "id": "oRqiGCwDQ5Ow",
        "colab": {
          "base_uri": "https://localhost:8080/"
        },
        "outputId": "38f80d7d-f601-4aa5-e5c3-19f382490128"
      },
      "source": [
        "df_people = df_people.withColumnRenamed(\"date of birth\", \"birth\")\n",
        "df_people.show(3)"
      ],
      "execution_count": 142,
      "outputs": [
        {
          "output_type": "stream",
          "name": "stdout",
          "text": [
            "+---+---------+--------------+------+----------+\n",
            "|_c0|person_id|          name|   sex|     birth|\n",
            "+---+---------+--------------+------+----------+\n",
            "|  0|      100|Penelope Lewis|female|1990-08-31|\n",
            "|  1|      101| David Anthony|  male|1971-10-14|\n",
            "|  2|      102|     Ida Shipp|female|1962-05-24|\n",
            "+---+---------+--------------+------+----------+\n",
            "only showing top 3 rows\n",
            "\n"
          ]
        }
      ]
    },
    {
      "cell_type": "markdown",
      "metadata": {
        "id": "GzBXUlIKQ5Ow"
      },
      "source": [
        "## Using SQL queries with DataFrames by using Spark SQL module"
      ]
    },
    {
      "cell_type": "markdown",
      "metadata": {
        "id": "R1iqeIQkQ5Ow"
      },
      "source": [
        "We can also use SQL queries to achieve the same things with DataFrames. Firstly, we should create temporary table by using createOrReplaceTempView method. We should give the name of temporary table as an argument to the method. Then, we can give any query we want to execute to SparkSession's sql method as an argument. Look at the following example."
      ]
    },
    {
      "cell_type": "code",
      "metadata": {
        "id": "DhpDrhmoGXzh"
      },
      "source": [
        "path_people=\"/content/people.csv\"\n",
        "df_people = spark.read.csv(path_people, header=True, inferSchema=True)\n",
        "df_people = df_people.withColumnRenamed(\"date of birth\", \"birth\")\n",
        "df_people.createOrReplaceTempView(\"people\")"
      ],
      "execution_count": 148,
      "outputs": []
    },
    {
      "cell_type": "code",
      "metadata": {
        "colab": {
          "base_uri": "https://localhost:8080/"
        },
        "id": "Ye_mUHgHGcQx",
        "outputId": "94d05afb-80e1-4680-a908-ab1f25aac5ed"
      },
      "source": [
        "query='DESCRIBE people'\n",
        "spark.sql(query).show(10)"
      ],
      "execution_count": 149,
      "outputs": [
        {
          "output_type": "stream",
          "name": "stdout",
          "text": [
            "+---------+---------+-------+\n",
            "| col_name|data_type|comment|\n",
            "+---------+---------+-------+\n",
            "|      _c0|      int|   null|\n",
            "|person_id|      int|   null|\n",
            "|     name|   string|   null|\n",
            "|      sex|   string|   null|\n",
            "|    birth|   string|   null|\n",
            "+---------+---------+-------+\n",
            "\n"
          ]
        }
      ]
    },
    {
      "cell_type": "code",
      "metadata": {
        "id": "xjH-RSs7Q5Ow",
        "colab": {
          "base_uri": "https://localhost:8080/"
        },
        "outputId": "536ddd82-99ea-4c33-c726-5a89e81f42a9"
      },
      "source": [
        "query=\"\"\"SELECT name, birth FROM people WHERE sex==\"male\" ORDER BY `birth`\"\"\"\n",
        "\n",
        "df_people_names = spark.sql(query)\n",
        "df_people_names.show(10)"
      ],
      "execution_count": 150,
      "outputs": [
        {
          "output_type": "stream",
          "name": "stdout",
          "text": [
            "+---------------+----------+\n",
            "|           name|     birth|\n",
            "+---------------+----------+\n",
            "|   Tyler Walton|1903-07-14|\n",
            "|  Daniel Naiman|1903-11-07|\n",
            "|   John Merritt|1906-11-04|\n",
            "|   Roger Watkin|1907-12-08|\n",
            "|     Tim Makris|1909-07-11|\n",
            "|    Jeremy Jost|1910-04-14|\n",
            "|  Fredrick Nass|1911-01-12|\n",
            "|     Shaun King|1911-03-27|\n",
            "|Mitchell Martin|1911-07-06|\n",
            "|   Daniel Rutan|1911-08-09|\n",
            "+---------------+----------+\n",
            "only showing top 10 rows\n",
            "\n"
          ]
        }
      ]
    },
    {
      "cell_type": "code",
      "metadata": {
        "colab": {
          "base_uri": "https://localhost:8080/"
        },
        "id": "RaOX-H0yIu7E",
        "outputId": "661ac069-1d8e-4d6b-d4db-e26634b24832"
      },
      "source": [
        "query='SELECT name, `birth` FROM people WHERE `birth` BETWEEN \"1903-01-01\" AND \"1911-12-31\" ORDER BY `birth`'\n",
        "\n",
        "df_people_1903_1906 = spark.sql(query)\n",
        "df_people_1903_1906.show(10)"
      ],
      "execution_count": 151,
      "outputs": [
        {
          "output_type": "stream",
          "name": "stdout",
          "text": [
            "+---------------+----------+\n",
            "|           name|     birth|\n",
            "+---------------+----------+\n",
            "|   Tyler Walton|1903-07-14|\n",
            "|  Daniel Naiman|1903-11-07|\n",
            "| Christy Dawson|1904-01-11|\n",
            "|   John Merritt|1906-11-04|\n",
            "|   Roger Watkin|1907-12-08|\n",
            "|   Marie Givens|1908-02-15|\n",
            "|Maribel Donahoe|1908-11-27|\n",
            "|    Paula Evans|1909-02-10|\n",
            "|     Tim Makris|1909-07-11|\n",
            "|   Joyce Jacoby|1909-09-13|\n",
            "+---------------+----------+\n",
            "only showing top 10 rows\n",
            "\n"
          ]
        }
      ]
    },
    {
      "cell_type": "code",
      "metadata": {
        "colab": {
          "base_uri": "https://localhost:8080/"
        },
        "id": "VL0AiYLkViqf",
        "outputId": "04df489a-ada2-4b50-d792-ce32bade203b"
      },
      "source": [
        "query='SELECT sex,COUNT(sex) FROM people WHERE birth BETWEEN \"1903-01-01\" AND \"1911-12-31\" GROUP BY sex'\n",
        "df_people_1903_1906_sex = spark.sql(query)\n",
        "df_people_1903_1906_sex.show()"
      ],
      "execution_count": 152,
      "outputs": [
        {
          "output_type": "stream",
          "name": "stdout",
          "text": [
            "+------+----------+\n",
            "|   sex|count(sex)|\n",
            "+------+----------+\n",
            "|female|         7|\n",
            "|  male|        10|\n",
            "+------+----------+\n",
            "\n"
          ]
        }
      ]
    },
    {
      "cell_type": "markdown",
      "metadata": {
        "id": "7iVFBO2YQ5Ox"
      },
      "source": [
        "## Create RDD from external file"
      ]
    },
    {
      "cell_type": "markdown",
      "metadata": {
        "id": "F7ziWSNrQ5Ox"
      },
      "source": [
        "The second and mostly used way to create RDD is from external dataset. To do this, we can use SparkContext's textFile method. In the following example, we use 5000_points.txt dataset. To do this, we use path to dataset as an argument to textFile method."
      ]
    },
    {
      "cell_type": "code",
      "metadata": {
        "id": "QUfJMdnFQ5Ox",
        "colab": {
          "base_uri": "https://localhost:8080/"
        },
        "outputId": "6fe44038-4d6b-4030-a8ee-b06251a77be8"
      },
      "source": [
        "# load the 5000_points dataset into a rdd named clusterRDD\n",
        "clusterRDD = sc.textFile(path_5000)\n",
        "#NOT clusterRDD.show(10)\n",
        "clusterRDD.take(10)"
      ],
      "execution_count": 153,
      "outputs": [
        {
          "output_type": "execute_result",
          "data": {
            "text/plain": [
              "['664159\\t550946',\n",
              " '665845\\t557965',\n",
              " '597173\\t575538',\n",
              " '618600\\t551446',\n",
              " '635690\\t608046',\n",
              " '588100\\t557588',\n",
              " '582015\\t546191',\n",
              " '604678\\t574577',\n",
              " '572029\\t518313',\n",
              " '604737\\t574591']"
            ]
          },
          "metadata": {},
          "execution_count": 153
        }
      ]
    },
    {
      "cell_type": "markdown",
      "metadata": {
        "id": "xcFFj_LyQ5Ox"
      },
      "source": [
        "Default number of partition of rdd is two. We can see that using getNumPartitions method. If we want to increase number of partition, we can give minPartitions argument to textFile method."
      ]
    },
    {
      "cell_type": "code",
      "metadata": {
        "id": "pmeqUXIQQ5Oy",
        "colab": {
          "base_uri": "https://localhost:8080/"
        },
        "outputId": "abe9f593-c406-459f-d8c9-cb9c2581e832"
      },
      "source": [
        "clusterRDD.getNumPartitions()"
      ],
      "execution_count": 154,
      "outputs": [
        {
          "output_type": "execute_result",
          "data": {
            "text/plain": [
              "2"
            ]
          },
          "metadata": {},
          "execution_count": 154
        }
      ]
    },
    {
      "cell_type": "code",
      "metadata": {
        "id": "XWOGC1S3Q5Oy"
      },
      "source": [
        "clusterRDD = sc.textFile(path_5000,  minPartitions = 5)"
      ],
      "execution_count": 155,
      "outputs": []
    },
    {
      "cell_type": "code",
      "metadata": {
        "id": "PL6BHJ3xQ5Oy",
        "colab": {
          "base_uri": "https://localhost:8080/"
        },
        "outputId": "63d0d3a1-82f6-4f93-ddf3-33e6aa7de483"
      },
      "source": [
        "clusterRDD.getNumPartitions()"
      ],
      "execution_count": 156,
      "outputs": [
        {
          "output_type": "execute_result",
          "data": {
            "text/plain": [
              "5"
            ]
          },
          "metadata": {},
          "execution_count": 156
        }
      ]
    },
    {
      "cell_type": "code",
      "metadata": {
        "id": "hDU2aH7wQ5Oy",
        "colab": {
          "base_uri": "https://localhost:8080/"
        },
        "outputId": "fae14957-e925-4dee-de40-046d60ea2f5b"
      },
      "source": [
        "clusterRDD.take(5)"
      ],
      "execution_count": 157,
      "outputs": [
        {
          "output_type": "execute_result",
          "data": {
            "text/plain": [
              "['664159\\t550946',\n",
              " '665845\\t557965',\n",
              " '597173\\t575538',\n",
              " '618600\\t551446',\n",
              " '635690\\t608046']"
            ]
          },
          "metadata": {},
          "execution_count": 157
        }
      ]
    },
    {
      "cell_type": "markdown",
      "metadata": {
        "id": "7UOx5quGQ5Oz"
      },
      "source": [
        "We can transform this rdd by splitting the lines based on the tab."
      ]
    },
    {
      "cell_type": "code",
      "metadata": {
        "id": "8dg3YY9pQ5Oz"
      },
      "source": [
        "rdd_split = clusterRDD.map(lambda x: x.split(\"\\t\"))"
      ],
      "execution_count": 158,
      "outputs": []
    },
    {
      "cell_type": "code",
      "metadata": {
        "id": "-PiKSKKgQ5Oz",
        "colab": {
          "base_uri": "https://localhost:8080/"
        },
        "outputId": "3b23297e-bf14-40bb-f196-7314060917e1"
      },
      "source": [
        "rdd_split.take(5)"
      ],
      "execution_count": 159,
      "outputs": [
        {
          "output_type": "execute_result",
          "data": {
            "text/plain": [
              "[['664159', '550946'],\n",
              " ['665845', '557965'],\n",
              " ['597173', '575538'],\n",
              " ['618600', '551446'],\n",
              " ['635690', '608046']]"
            ]
          },
          "metadata": {},
          "execution_count": 159
        }
      ]
    },
    {
      "cell_type": "markdown",
      "metadata": {
        "id": "w4gBG93gQ5Oz"
      },
      "source": [
        "We can also further transform the splitted RDD to create a list of integers for the two columns."
      ]
    },
    {
      "cell_type": "code",
      "metadata": {
        "id": "LZuvHp1ZQ5Oz"
      },
      "source": [
        "rdd_split_int = rdd_split.map(lambda x: [int(x[0]), int(x[1])])"
      ],
      "execution_count": 160,
      "outputs": []
    },
    {
      "cell_type": "code",
      "metadata": {
        "id": "f5_92g_-Q5Oz",
        "colab": {
          "base_uri": "https://localhost:8080/"
        },
        "outputId": "e6393361-59b1-4dcd-a049-3e4f278815d5"
      },
      "source": [
        "rdd_split_int.take(5)"
      ],
      "execution_count": 161,
      "outputs": [
        {
          "output_type": "execute_result",
          "data": {
            "text/plain": [
              "[[664159, 550946],\n",
              " [665845, 557965],\n",
              " [597173, 575538],\n",
              " [618600, 551446],\n",
              " [635690, 608046]]"
            ]
          },
          "metadata": {},
          "execution_count": 161
        }
      ]
    },
    {
      "cell_type": "markdown",
      "metadata": {
        "id": "xoTw_QdGQ5O0"
      },
      "source": [
        "## Machine Learning with PySpark MLlib"
      ]
    },
    {
      "cell_type": "markdown",
      "metadata": {
        "id": "I5kku0vdQ5O0"
      },
      "source": [
        "PySpark MLlib is the Apache Spark's scalable machine learning library in Python consisting of common learning algorithms and utilities. We use Kmeans algorithm of MLlib library to cluster data in 5000_points.txt dataset. First, we should define error method to calculate distance from every point to center of its clusters which the points belong to."
      ]
    },
    {
      "cell_type": "code",
      "metadata": {
        "id": "uC_B5jKDQ5O0"
      },
      "source": [
        "def error(point):\n",
        "    center = model.centers[model.predict(point)]\n",
        "    return sqrt(sum([x**2 for x in (point - center)]))"
      ],
      "execution_count": 162,
      "outputs": []
    },
    {
      "cell_type": "markdown",
      "metadata": {
        "id": "EwUTqvRXQ5O0"
      },
      "source": [
        "We train the model with 4 different number of clusters from 13 to 16 and then calculate the error for all of them. As you see in the output, 16 clusters give minimum error. We retrain the model with the number of cluster with the smallest error. We then use clusterCenters attribute to see the center of all clusters."
      ]
    },
    {
      "cell_type": "code",
      "metadata": {
        "id": "03_qaHTvQ5O0",
        "colab": {
          "base_uri": "https://localhost:8080/"
        },
        "outputId": "7f3886ef-bfa9-4e31-9949-55e60a3b52cd"
      },
      "source": [
        "from math import sqrt\n",
        "from pyspark.mllib.clustering import KMeans\n",
        "# Train the model with clusters from 13 to 16 and compute SSE\n",
        "temp = 0\n",
        "cluster = 0\n",
        "for clst in range(13, 17):\n",
        "    model = KMeans.train(rdd_split_int, clst, seed=1)\n",
        "    SSE = rdd_split_int.map(lambda point: error(point)).reduce(lambda x, y: x + y) \n",
        "    while temp > SSE or temp == 0:\n",
        "        temp = SSE\n",
        "        cluster = clst\n",
        "    print(\"The cluster\", clst, \"has Sum of Squared Error\", SSE)\n",
        "\n",
        "\n",
        "print(\"\\ncluster\", cluster)\n",
        "print(\"SSE:\", temp)\n",
        "\n",
        "\n",
        "# Train the model again with the best k \n",
        "model = KMeans.train(rdd_split_int, k=cluster, seed=1)\n",
        "\n",
        "# Get cluster centers\n",
        "cluster_centers = model.clusterCenters"
      ],
      "execution_count": 168,
      "outputs": [
        {
          "output_type": "stream",
          "name": "stdout",
          "text": [
            "The cluster 13 has Sum of Squared Error 247695647.89233023\n",
            "The cluster 14 has Sum of Squared Error 251668177.0509325\n",
            "The cluster 15 has Sum of Squared Error 249952708.50382334\n",
            "The cluster 16 has Sum of Squared Error 168449816.78242967\n",
            "\n",
            "cluster 16\n",
            "SSE: 168449816.78242967\n"
          ]
        }
      ]
    },
    {
      "cell_type": "markdown",
      "metadata": {
        "id": "T8E_W9aSQ5O0"
      },
      "source": [
        "We can again use SparkSession's createDataFrame method to create DataFrame from rdd. We must convert PySpark DataFrame to Pandas DataFrame in order to visualise data. To do this, we can use toPandas method. We create another Pandas DataFrame from cluster centers list. Then, using matplotlib's scatter method, we can make plot for clusters and their centers."
      ]
    },
    {
      "cell_type": "code",
      "metadata": {
        "id": "FEjUjUPlQ5O1",
        "colab": {
          "base_uri": "https://localhost:8080/",
          "height": 371
        },
        "outputId": "ae4b534c-4954-4a88-bfbd-643418e733dd"
      },
      "source": [
        "rdd_split_int_df = spark.createDataFrame(rdd_split_int, schema=[\"col1\", \"col2\"])\n",
        "\n",
        "rdd_split_int_df_pandas = rdd_split_int_df.toPandas()\n",
        "\n",
        "cluster_centers_pandas = pd.DataFrame(cluster_centers, columns=[\"col1\", \"col2\"])\n",
        "\n",
        "plt.scatter(rdd_split_int_df_pandas[\"col1\"], rdd_split_int_df_pandas[\"col2\"])\n",
        "plt.scatter(cluster_centers_pandas[\"col1\"], cluster_centers_pandas[\"col2\"], color=\"red\", marker=\"x\")\n",
        "plt.show()"
      ],
      "execution_count": 169,
      "outputs": [
        {
          "output_type": "display_data",
          "data": {
            "text/plain": [
              "<Figure size 576x396 with 1 Axes>"
            ],
            "image/png": "[encoded data removed]"
          },
          "metadata": {}
        }
      ]
    },
    {
      "cell_type": "markdown",
      "metadata": {
        "id": "fnpvifOPQ5O1"
      },
      "source": [
        "## Conclusion"
      ]
    },
    {
      "cell_type": "markdown",
      "metadata": {
        "id": "Lgy-Izk6Q5O1"
      },
      "source": [
        "This tutorial discusses Big Data via PySpark, a Python package for spark programming. In this tutorial, I explained SparkContext, using map and filter methods with Lambda functions in Python, creating rdd from object and external file, transformations and actions on rdd and pair rdd, SparkSession, creating PySpark Dataframe from rdd and external file, using sql queries with Dataframes by using Spark SQL module and finally, machine learning with PySpark MLlib library."
      ]
    },
    {
      "cell_type": "code",
      "metadata": {
        "id": "CHbdRzOPQ5O1",
        "outputId": "997e1654-05e4-4a8f-bd72-f8dd8280b165",
        "colab": {
          "base_uri": "https://localhost:8080/",
          "height": 641
        }
      },
      "source": [
        "#Converting between Pandas DF, Spark DF and RDD\n",
        "# load the 5000_points dataset into a rdd named clusterRDD\n",
        "spRDD = sc.textFile(path_5000)\n",
        "#NOT clusterRDD.show(10)\n",
        "spRDD.take(10)\n",
        "# RDD to Spark DataFrame\n",
        "spRDD = spRDD.map(lambda x: x.split(\"\\t\"))\n",
        "spRDD = spRDD.map(lambda x: [int(x[0]), int(x[1])])\n",
        "spRDD.take(10)\n",
        "\n",
        "#Convert to Spark DF\n",
        "sparkDF = spRDD.toDF()\n",
        "sparkDF.show(10)\n",
        "\n",
        "#Convert to Pandas DF\n",
        "pdDF = sparkDF.toPandas()\n",
        "pdDF.head(10)"
      ],
      "execution_count": 165,
      "outputs": [
        {
          "output_type": "stream",
          "name": "stdout",
          "text": [
            "+------+------+\n",
            "|    _1|    _2|\n",
            "+------+------+\n",
            "|664159|550946|\n",
            "|665845|557965|\n",
            "|597173|575538|\n",
            "|618600|551446|\n",
            "|635690|608046|\n",
            "|588100|557588|\n",
            "|582015|546191|\n",
            "|604678|574577|\n",
            "|572029|518313|\n",
            "|604737|574591|\n",
            "+------+------+\n",
            "only showing top 10 rows\n",
            "\n"
          ]
        },
        {
          "output_type": "execute_result",
          "data": {
            "text/plain": [
              "       _1      _2\n",
              "0  664159  550946\n",
              "1  665845  557965\n",
              "2  597173  575538\n",
              "3  618600  551446\n",
              "4  635690  608046\n",
              "5  588100  557588\n",
              "6  582015  546191\n",
              "7  604678  574577\n",
              "8  572029  518313\n",
              "9  604737  574591"
            ],
            "text/html": [
              "\n",
              "  <div id=\"df-2a612faa-f2f5-4c30-b88c-25a6dde7c13d\">\n",
              "    <div class=\"colab-df-container\">\n",
              "      <div>\n",
              "<style scoped>\n",
              "    .dataframe tbody tr th:only-of-type {\n",
              "        vertical-align: middle;\n",
              "    }\n",
              "\n",
              "    .dataframe tbody tr th {\n",
              "        vertical-align: top;\n",
              "    }\n",
              "\n",
              "    .dataframe thead th {\n",
              "        text-align: right;\n",
              "    }\n",
              "</style>\n",
              "<table border=\"1\" class=\"dataframe\">\n",
              "  <thead>\n",
              "    <tr style=\"text-align: right;\">\n",
              "      <th></th>\n",
              "      <th>_1</th>\n",
              "      <th>_2</th>\n",
              "    </tr>\n",
              "  </thead>\n",
              "  <tbody>\n",
              "    <tr>\n",
              "      <th>0</th>\n",
              "      <td>664159</td>\n",
              "      <td>550946</td>\n",
              "    </tr>\n",
              "    <tr>\n",
              "      <th>1</th>\n",
              "      <td>665845</td>\n",
              "      <td>557965</td>\n",
              "    </tr>\n",
              "    <tr>\n",
              "      <th>2</th>\n",
              "      <td>597173</td>\n",
              "      <td>575538</td>\n",
              "    </tr>\n",
              "    <tr>\n",
              "      <th>3</th>\n",
              "      <td>618600</td>\n",
              "      <td>551446</td>\n",
              "    </tr>\n",
              "    <tr>\n",
              "      <th>4</th>\n",
              "      <td>635690</td>\n",
              "      <td>608046</td>\n",
              "    </tr>\n",
              "    <tr>\n",
              "      <th>5</th>\n",
              "      <td>588100</td>\n",
              "      <td>557588</td>\n",
              "    </tr>\n",
              "    <tr>\n",
              "      <th>6</th>\n",
              "      <td>582015</td>\n",
              "      <td>546191</td>\n",
              "    </tr>\n",
              "    <tr>\n",
              "      <th>7</th>\n",
              "      <td>604678</td>\n",
              "      <td>574577</td>\n",
              "    </tr>\n",
              "    <tr>\n",
              "      <th>8</th>\n",
              "      <td>572029</td>\n",
              "      <td>518313</td>\n",
              "    </tr>\n",
              "    <tr>\n",
              "      <th>9</th>\n",
              "      <td>604737</td>\n",
              "      <td>574591</td>\n",
              "    </tr>\n",
              "  </tbody>\n",
              "</table>\n",
              "</div>\n",
              "      <button class=\"colab-df-convert\" onclick=\"convertToInteractive('df-2a612faa-f2f5-4c30-b88c-25a6dde7c13d')\"\n",
              "              title=\"Convert this dataframe to an interactive table.\"\n",
              "              style=\"display:none;\">\n",
              "        \n",
              "  <svg xmlns=\"http://www.w3.org/2000/svg\" height=\"24px\"viewBox=\"0 0 24 24\"\n",
              "       width=\"24px\">\n",
              "    <path d=\"M0 0h24v24H0V0z\" fill=\"none\"/>\n",
              "    <path d=\"M18.56 5.44l.94 2.06.94-2.06 2.06-.94-2.06-.94-.94-2.06-.94 2.06-2.06.94zm-11 1L8.5 8.5l.94-2.06 2.06-.94-2.06-.94L8.5 2.5l-.94 2.06-2.06.94zm10 10l.94 2.06.94-2.06 2.06-.94-2.06-.94-.94-2.06-.94 2.06-2.06.94z\"/><path d=\"M17.41 7.96l-1.37-1.37c-.4-.4-.92-.59-1.43-.59-.52 0-1.04.2-1.43.59L10.3 9.45l-7.72 7.72c-.78.78-.78 2.05 0 2.83L4 21.41c.39.39.9.59 1.41.59.51 0 1.02-.2 1.41-.59l7.78-7.78 2.81-2.81c.8-.78.8-2.07 0-2.86zM5.41 20L4 18.59l7.72-7.72 1.47 1.35L5.41 20z\"/>\n",
              "  </svg>\n",
              "      </button>\n",
              "      \n",
              "  <style>\n",
              "    .colab-df-container {\n",
              "      display:flex;\n",
              "      flex-wrap:wrap;\n",
              "      gap: 12px;\n",
              "    }\n",
              "\n",
              "    .colab-df-convert {\n",
              "      background-color: #E8F0FE;\n",
              "      border: none;\n",
              "      border-radius: 50%;\n",
              "      cursor: pointer;\n",
              "      display: none;\n",
              "      fill: #1967D2;\n",
              "      height: 32px;\n",
              "      padding: 0 0 0 0;\n",
              "      width: 32px;\n",
              "    }\n",
              "\n",
              "    .colab-df-convert:hover {\n",
              "      background-color: #E2EBFA;\n",
              "      box-shadow: 0px 1px 2px rgba(60, 64, 67, 0.3), 0px 1px 3px 1px rgba(60, 64, 67, 0.15);\n",
              "      fill: #174EA6;\n",
              "    }\n",
              "\n",
              "    [theme=dark] .colab-df-convert {\n",
              "      background-color: #3B4455;\n",
              "      fill: #D2E3FC;\n",
              "    }\n",
              "\n",
              "    [theme=dark] .colab-df-convert:hover {\n",
              "      background-color: #434B5C;\n",
              "      box-shadow: 0px 1px 3px 1px rgba(0, 0, 0, 0.15);\n",
              "      filter: drop-shadow(0px 1px 2px rgba(0, 0, 0, 0.3));\n",
              "      fill: #FFFFFF;\n",
              "    }\n",
              "  </style>\n",
              "\n",
              "      <script>\n",
              "        const buttonEl =\n",
              "          document.querySelector('#df-2a612faa-f2f5-4c30-b88c-25a6dde7c13d button.colab-df-convert');\n",
              "        buttonEl.style.display =\n",
              "          google.colab.kernel.accessAllowed ? 'block' : 'none';\n",
              "\n",
              "        async function convertToInteractive(key) {\n",
              "          const element = document.querySelector('#df-2a612faa-f2f5-4c30-b88c-25a6dde7c13d');\n",
              "          const dataTable =\n",
              "            await google.colab.kernel.invokeFunction('convertToInteractive',\n",
              "                                                     [key], {});\n",
              "          if (!dataTable) return;\n",
              "\n",
              "          const docLinkHtml = 'Like what you see? Visit the ' +\n",
              "            '<a target=\"_blank\" href=https://colab.research.google.com/notebooks/data_table.ipynb>data table notebook</a>'\n",
              "            + ' to learn more about interactive tables.';\n",
              "          element.innerHTML = '';\n",
              "          dataTable['output_type'] = 'display_data';\n",
              "          await google.colab.output.renderOutput(dataTable, element);\n",
              "          const docLink = document.createElement('div');\n",
              "          docLink.innerHTML = docLinkHtml;\n",
              "          element.appendChild(docLink);\n",
              "        }\n",
              "      </script>\n",
              "    </div>\n",
              "  </div>\n",
              "  "
            ]
          },
          "metadata": {},
          "execution_count": 165
        }
      ]
    },
    {
      "cell_type": "code",
      "metadata": {
        "id": "A1RZf-j-Q5O2",
        "outputId": "5c394a4a-7aaa-4cd1-a990-a30dced9cae0",
        "colab": {
          "base_uri": "https://localhost:8080/"
        }
      },
      "source": [
        "#Converting between Pandas DF, Spark DF and RDD\n",
        "#Converting Pandas DF to Spaek DF\n",
        "spDF_2 = sqlContext.createDataFrame(pdDF)\n",
        "spDF_2.show(10)\n",
        "\n",
        "pdDF.head(10)\n",
        "\n",
        "#Accesing RDD\n",
        "spRDD_2=spDF_2.rdd\n",
        "spRDD_2.take(10)"
      ],
      "execution_count": 166,
      "outputs": [
        {
          "output_type": "stream",
          "name": "stdout",
          "text": [
            "+------+------+\n",
            "|    _1|    _2|\n",
            "+------+------+\n",
            "|664159|550946|\n",
            "|665845|557965|\n",
            "|597173|575538|\n",
            "|618600|551446|\n",
            "|635690|608046|\n",
            "|588100|557588|\n",
            "|582015|546191|\n",
            "|604678|574577|\n",
            "|572029|518313|\n",
            "|604737|574591|\n",
            "+------+------+\n",
            "only showing top 10 rows\n",
            "\n"
          ]
        },
        {
          "output_type": "execute_result",
          "data": {
            "text/plain": [
              "[Row(_1=664159, _2=550946),\n",
              " Row(_1=665845, _2=557965),\n",
              " Row(_1=597173, _2=575538),\n",
              " Row(_1=618600, _2=551446),\n",
              " Row(_1=635690, _2=608046),\n",
              " Row(_1=588100, _2=557588),\n",
              " Row(_1=582015, _2=546191),\n",
              " Row(_1=604678, _2=574577),\n",
              " Row(_1=572029, _2=518313),\n",
              " Row(_1=604737, _2=574591)]"
            ]
          },
          "metadata": {},
          "execution_count": 166
        }
      ]
    }
  ]
}